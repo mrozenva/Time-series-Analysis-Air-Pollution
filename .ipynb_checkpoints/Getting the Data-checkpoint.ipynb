{
 "cells": [
  {
   "cell_type": "code",
   "execution_count": 14,
   "metadata": {},
   "outputs": [
    {
     "name": "stdout",
     "output_type": "stream",
     "text": [
      "             pollution        dew       temp        press     wnd_spd  \\\n",
      "date                                                                    \n",
      "2010-01-02  145.958333  -8.500000  -5.125000  1024.750000   24.860000   \n",
      "2010-01-03   78.833333 -10.125000  -8.541667  1022.791667   70.937917   \n",
      "2010-01-04   31.333333 -20.875000 -11.500000  1029.291667  111.160833   \n",
      "2010-01-05   42.458333 -24.583333 -14.458333  1033.625000   56.920000   \n",
      "2010-01-06   56.416667 -23.708333 -12.541667  1033.750000   18.511667   \n",
      "\n",
      "                 snow  rain  pollution_yesterday  \n",
      "date                                              \n",
      "2010-01-02   0.708333   0.0            10.041667  \n",
      "2010-01-03  14.166667   0.0           145.958333  \n",
      "2010-01-04   0.000000   0.0            78.833333  \n",
      "2010-01-05   0.000000   0.0            31.333333  \n",
      "2010-01-06   0.000000   0.0            42.458333  \n"
     ]
    },
    {
     "name": "stderr",
     "output_type": "stream",
     "text": [
      "<ipython-input-14-fa5bb827ec3e>:16: UserWarning: Pandas doesn't allow columns to be created via a new attribute name - see https://pandas.pydata.org/pandas-docs/stable/indexing.html#attribute-access\n",
      "  dataset.pollution_today = dataset.pollution.replace(0, np.nan).interpolate()\n"
     ]
    }
   ],
   "source": [
    "from pandas import read_csv\n",
    "from datetime import datetime\n",
    "# load data\n",
    "def parse(x):\n",
    "\treturn datetime.strptime(x, '%Y %m %d %H')\n",
    "dataset = read_csv('/Users/michaelrozenvasser/Timeseries/PRSA_data_2010.1.1-2014.12.31.csv',  parse_dates = [['year', 'month', 'day', 'hour']], index_col=0, date_parser=parse)\n",
    "dataset.drop('No', axis=1, inplace=True)\n",
    "# manually specify column names\n",
    "dataset.columns = ['pollution', 'dew', 'temp', 'press', 'wnd_dir','wnd_spd', 'snow', 'rain']\n",
    "dataset.index.name = 'date'\n",
    "# mark all NA values with 0\n",
    "dataset['pollution'].fillna(0, inplace=True)\n",
    "# drop the first 24 hours\n",
    "dataset = dataset[24:]\n",
    "dataset[\"pollution\"].fillna(0, inplace=True)\n",
    "dataset.pollution_today = dataset.pollution.replace(0, np.nan).interpolate()\n",
    "dataset = dataset.resample(\"D\").mean()\n",
    "dataset = dataset[dataset.pollution != 0]\n",
    "dataset[\"pollution_yesterday\"] = ( dataset[\"pollution\"].tolist()[-1:]\n",
    "                                  + dataset[\"pollution\"].tolist()[:-1])\n",
    "\n",
    "# summarize first 5 rows\n",
    "print(dataset.head(5))\n",
    "# save to file\n",
    "dataset.to_csv('pollution.csv')"
   ]
  },
  {
   "cell_type": "code",
   "execution_count": null,
   "metadata": {},
   "outputs": [],
   "source": []
  }
 ],
 "metadata": {
  "kernelspec": {
   "display_name": "Python 3",
   "language": "python",
   "name": "python3"
  },
  "language_info": {
   "codemirror_mode": {
    "name": "ipython",
    "version": 3
   },
   "file_extension": ".py",
   "mimetype": "text/x-python",
   "name": "python",
   "nbconvert_exporter": "python",
   "pygments_lexer": "ipython3",
   "version": "3.8.3"
  },
  "toc": {
   "base_numbering": 1,
   "nav_menu": {},
   "number_sections": true,
   "sideBar": true,
   "skip_h1_title": false,
   "title_cell": "Table of Contents",
   "title_sidebar": "Contents",
   "toc_cell": false,
   "toc_position": {},
   "toc_section_display": true,
   "toc_window_display": false
  }
 },
 "nbformat": 4,
 "nbformat_minor": 4
}
